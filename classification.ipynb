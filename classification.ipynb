{
 "cells": [
  {
   "cell_type": "code",
   "execution_count": null,
   "metadata": {},
   "outputs": [],
   "source": [
    "pip install ucimlrepo\n",
    "from ucimlrepo import fetch_ucirepo \n",
    "  \n",
    "# fetch dataset \n",
    "isolet = fetch_ucirepo(id=54) \n",
    "  \n",
    "# data (as pandas dataframes) \n",
    "X = isolet.data.features \n",
    "y = isolet.data.targets \n",
    "  \n",
    "# metadata \n",
    "print(isolet.metadata) \n",
    "  \n",
    "# variable information \n",
    "print(isolet.variables) \n"
   ]
  },
  {
   "cell_type": "markdown",
   "metadata": {},
   "source": []
  }
 ],
 "metadata": {
  "language_info": {
   "name": "python"
  }
 },
 "nbformat": 4,
 "nbformat_minor": 2
}
